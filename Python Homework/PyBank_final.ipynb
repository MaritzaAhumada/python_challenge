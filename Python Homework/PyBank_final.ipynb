{
 "cells": [
  {
   "cell_type": "code",
   "execution_count": 22,
   "id": "fec1fa95-87ef-47e1-a93f-7b21682095da",
   "metadata": {},
   "outputs": [],
   "source": [
    "# module to work with CSV files\n",
    "import os\n",
    "import csv\n"
   ]
  },
  {
   "cell_type": "code",
   "execution_count": 23,
   "id": "25493ada",
   "metadata": {},
   "outputs": [],
   "source": [
    "# read data for PyBank from CSV file\n",
    "#import budget file\n",
    "file = os.path.join (\"budget_data.csv\") \n",
    "raw_data = list(csv.reader(file, delimiter=\",\"))\n"
   ]
  },
  {
   "cell_type": "code",
   "execution_count": 24,
   "id": "c8918730",
   "metadata": {},
   "outputs": [],
   "source": [
    "# store the hearder row\n",
    "header = raw_data[0]\n",
    "\n",
    "# store the data of months and profit/losses\n",
    "data = raw_data[1:]"
   ]
  },
  {
   "cell_type": "code",
   "execution_count": 27,
   "id": "a789831c",
   "metadata": {},
   "outputs": [
    {
     "name": "stdout",
     "output_type": "stream",
     "text": [
      "\n",
      "Financial Analysis\n",
      "\n",
      "----------------------------\n",
      "\n",
      "Total Months: 14\n",
      "\n",
      "Total: $0\n",
      "\n"
     ]
    },
    {
     "ename": "IndexError",
     "evalue": "list index out of range",
     "output_type": "error",
     "traceback": [
      "\u001b[0;31m---------------------------------------------------------------------------\u001b[0m",
      "\u001b[0;31mIndexError\u001b[0m                                Traceback (most recent call last)",
      "\u001b[1;32m/Users/maritzaahumada/Downloads/Python Homework/PyBank_final.ipynb Cell 4\u001b[0m line \u001b[0;36m1\n\u001b[1;32m     <a href='vscode-notebook-cell:/Users/maritzaahumada/Downloads/Python%20Homework/PyBank_final.ipynb#W3sZmlsZQ%3D%3D?line=14'>15</a>\u001b[0m \u001b[39mprint\u001b[39m()\n\u001b[1;32m     <a href='vscode-notebook-cell:/Users/maritzaahumada/Downloads/Python%20Homework/PyBank_final.ipynb#W3sZmlsZQ%3D%3D?line=16'>17</a>\u001b[0m \u001b[39m# the changes in \"Profit/Losses\"\u001b[39;00m\n\u001b[0;32m---> <a href='vscode-notebook-cell:/Users/maritzaahumada/Downloads/Python%20Homework/PyBank_final.ipynb#W3sZmlsZQ%3D%3D?line=17'>18</a>\u001b[0m changes \u001b[39m=\u001b[39m [[data[i][\u001b[39m0\u001b[39m], \u001b[39mint\u001b[39m(data[i][\u001b[39m1\u001b[39m]) \u001b[39m-\u001b[39m \u001b[39mint\u001b[39m(data[i\u001b[39m-\u001b[39m\u001b[39m1\u001b[39m][\u001b[39m1\u001b[39m])] \u001b[39mfor\u001b[39;00m i \u001b[39min\u001b[39;00m \u001b[39mrange\u001b[39m(\u001b[39m1\u001b[39m, \u001b[39mlen\u001b[39m(data))]\n\u001b[1;32m     <a href='vscode-notebook-cell:/Users/maritzaahumada/Downloads/Python%20Homework/PyBank_final.ipynb#W3sZmlsZQ%3D%3D?line=19'>20</a>\u001b[0m \u001b[39m# the average of the changes\u001b[39;00m\n\u001b[1;32m     <a href='vscode-notebook-cell:/Users/maritzaahumada/Downloads/Python%20Homework/PyBank_final.ipynb#W3sZmlsZQ%3D%3D?line=20'>21</a>\u001b[0m average \u001b[39m=\u001b[39m \u001b[39mround\u001b[39m(\u001b[39msum\u001b[39m([changes[i][\u001b[39m1\u001b[39m] \u001b[39mfor\u001b[39;00m i \u001b[39min\u001b[39;00m \u001b[39mrange\u001b[39m(\u001b[39mlen\u001b[39m(changes))]) \u001b[39m/\u001b[39m \u001b[39mlen\u001b[39m(changes), \u001b[39m2\u001b[39m) \n",
      "\u001b[1;32m/Users/maritzaahumada/Downloads/Python Homework/PyBank_final.ipynb Cell 4\u001b[0m line \u001b[0;36m1\n\u001b[1;32m     <a href='vscode-notebook-cell:/Users/maritzaahumada/Downloads/Python%20Homework/PyBank_final.ipynb#W3sZmlsZQ%3D%3D?line=14'>15</a>\u001b[0m \u001b[39mprint\u001b[39m()\n\u001b[1;32m     <a href='vscode-notebook-cell:/Users/maritzaahumada/Downloads/Python%20Homework/PyBank_final.ipynb#W3sZmlsZQ%3D%3D?line=16'>17</a>\u001b[0m \u001b[39m# the changes in \"Profit/Losses\"\u001b[39;00m\n\u001b[0;32m---> <a href='vscode-notebook-cell:/Users/maritzaahumada/Downloads/Python%20Homework/PyBank_final.ipynb#W3sZmlsZQ%3D%3D?line=17'>18</a>\u001b[0m changes \u001b[39m=\u001b[39m [[data[i][\u001b[39m0\u001b[39m], \u001b[39mint\u001b[39m(data[i][\u001b[39m1\u001b[39m]) \u001b[39m-\u001b[39m \u001b[39mint\u001b[39m(data[i\u001b[39m-\u001b[39m\u001b[39m1\u001b[39m][\u001b[39m1\u001b[39m])] \u001b[39mfor\u001b[39;00m i \u001b[39min\u001b[39;00m \u001b[39mrange\u001b[39m(\u001b[39m1\u001b[39m, \u001b[39mlen\u001b[39m(data))]\n\u001b[1;32m     <a href='vscode-notebook-cell:/Users/maritzaahumada/Downloads/Python%20Homework/PyBank_final.ipynb#W3sZmlsZQ%3D%3D?line=19'>20</a>\u001b[0m \u001b[39m# the average of the changes\u001b[39;00m\n\u001b[1;32m     <a href='vscode-notebook-cell:/Users/maritzaahumada/Downloads/Python%20Homework/PyBank_final.ipynb#W3sZmlsZQ%3D%3D?line=20'>21</a>\u001b[0m average \u001b[39m=\u001b[39m \u001b[39mround\u001b[39m(\u001b[39msum\u001b[39m([changes[i][\u001b[39m1\u001b[39m] \u001b[39mfor\u001b[39;00m i \u001b[39min\u001b[39;00m \u001b[39mrange\u001b[39m(\u001b[39mlen\u001b[39m(changes))]) \u001b[39m/\u001b[39m \u001b[39mlen\u001b[39m(changes), \u001b[39m2\u001b[39m) \n",
      "\u001b[0;31mIndexError\u001b[0m: list index out of range"
     ]
    }
   ],
   "source": [
    "print()\n",
    "print(\"Financial Analysis\")\n",
    "print()\n",
    "print(\"-\"*28)\n",
    "print()\n",
    "\n",
    "# the total number of months included in the dataset\n",
    "total_months = len(data)\n",
    "print('Total Months:', total_months)\n",
    "print()\n",
    "\n",
    "# the net total amount of \"Profit/Losses\"\n",
    "net_total = sum([int(sublist[1]) for sublist in data if len(sublist) >= 2])\n",
    "print(f'Total: ${net_total}')\n",
    "print()\n",
    "\n",
    "# the changes in \"Profit/Losses\"\n",
    "changes = [[data[i][0], int(data[i][1]) - int(data[i-1][1])] for i in range(1, len(data))]\n",
    "\n",
    "# the average of the changes\n",
    "average = round(sum([changes[i][1] for i in range(len(changes))]) / len(changes), 2) \n",
    "print(f\"Average Change: ${average}\")\n",
    "print()\n",
    "\n",
    "# the greatest increase in profits\n",
    "increase = max([changes[i][1] for i in range(len(changes))])\n",
    "increase_month = ''\n",
    "for change in changes:\n",
    "    if change[1] == increase:\n",
    "        increase_month = change[0]       \n",
    "print(f'Greatest Increase in Profits: {increase_month} (${increase})')\n",
    "print()\n",
    "\n",
    "# the greatest decrease in profits\n",
    "decrease = min([changes[i][1] for i in range(len(changes))])\n",
    "decrease_month = ''\n",
    "for change in changes:\n",
    "    if change[1] == decrease:\n",
    "        decrease_month = change[0]       \n",
    "print(f'Greatest Decrease in Profits: {decrease_month} (${decrease})')\n",
    "print()"
   ]
  },
  {
   "cell_type": "code",
   "execution_count": null,
   "id": "2fe2da54",
   "metadata": {},
   "outputs": [],
   "source": [
    "# Export results to text file\n",
    "\n",
    "f = open(\"PyBank_results.txt\", \"w\")\n",
    "\n",
    "f.write('\\n')\n",
    "f.write(\"Financial Analysis\\n\")\n",
    "f.write('\\n')\n",
    "f.write(\"-\"*28+'\\n')\n",
    "f.write('\\n')\n",
    "f.write(f'Total Months: {total_months}\\n')\n",
    "f.write('\\n')\n",
    "f.write(f'Total: ${net_total}\\n')\n",
    "f.write('\\n')\n",
    "f.write(f\"Average Change: ${average}\\n\")\n",
    "f.write('\\n')\n",
    "f.write(f'Greatest Increase in Profits: {increase_month} (${increase})\\n')\n",
    "f.write('\\n')\n",
    "f.write(f'Greatest Decrease in Profits: {decrease_month} (${decrease})\\n')\n",
    "\n",
    "f.close()"
   ]
  },
  {
   "cell_type": "code",
   "execution_count": null,
   "id": "d555c656",
   "metadata": {},
   "outputs": [],
   "source": []
  }
 ],
 "metadata": {
  "kernelspec": {
   "display_name": "Python 3",
   "language": "python",
   "name": "python3"
  },
  "language_info": {
   "codemirror_mode": {
    "name": "ipython",
    "version": 3
   },
   "file_extension": ".py",
   "mimetype": "text/x-python",
   "name": "python",
   "nbconvert_exporter": "python",
   "pygments_lexer": "ipython3",
   "version": "3.11.5"
  }
 },
 "nbformat": 4,
 "nbformat_minor": 5
}
