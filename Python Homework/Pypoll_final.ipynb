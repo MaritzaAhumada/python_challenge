{
 "cells": [
  {
   "cell_type": "code",
   "execution_count": 6,
   "id": "1cceb21f-e608-4a4b-89fa-3a748319eac9",
   "metadata": {},
   "outputs": [],
   "source": [
    "# module to work with CSV files\n",
    "import csv"
   ]
  },
  {
   "cell_type": "code",
   "execution_count": 7,
   "id": "75e61dba",
   "metadata": {},
   "outputs": [],
   "source": [
    "# read data for PyBank from CSV file\n",
    "file = open(\"election_data.csv\", \"r\")\n",
    "raw_data = list(csv.reader(file, delimiter=\",\"))\n",
    "file.close()"
   ]
  },
  {
   "cell_type": "code",
   "execution_count": 8,
   "id": "66f09e61",
   "metadata": {},
   "outputs": [],
   "source": [
    "# store the hearder row\n",
    "header = raw_data[0]\n",
    "\n",
    "# store the data of voting data\n",
    "data = raw_data[1:]"
   ]
  },
  {
   "cell_type": "code",
   "execution_count": 9,
   "id": "70bbcec1",
   "metadata": {},
   "outputs": [
    {
     "name": "stdout",
     "output_type": "stream",
     "text": [
      "\n",
      "Election Results\n",
      "\n",
      "----------------------------\n",
      "\n",
      "Total votes: 369711\n",
      "\n",
      "----------------------------\n",
      "\n",
      "Charles Casper Stockham: 23.049% (85213)\n",
      "\n",
      "Diana DeGette: 73.812% (272892)\n",
      "\n",
      "Raymon Anthony Doane: 3.139% (11606)\n",
      "\n",
      "----------------------------\n",
      "\n",
      "Winner: Diana DeGette\n"
     ]
    }
   ],
   "source": [
    "print()\n",
    "print(\"Election Results\")\n",
    "print()\n",
    "print(\"-\"*28)\n",
    "print()\n",
    "\n",
    "\n",
    "# the total number of votes cast\n",
    "total_votes = len(data)\n",
    "print(\"Total votes:\", total_votes)\n",
    "print()\n",
    "print(\"-\"*28)\n",
    "print()\n",
    "\n",
    "\n",
    "# a complete list of candidates who received votes\n",
    "candidates = []\n",
    "\n",
    "for d in data:\n",
    "    if candidates.count(d[2]) == 0:\n",
    "        candidates.append(d[2])\n",
    "\n",
    "\n",
    "# the total number of votes each candidate won\n",
    "candidate_votes = []\n",
    "for c in candidates:\n",
    "    temp = 0\n",
    "    for d in data:\n",
    "        if d[2] == c:\n",
    "            temp += 1\n",
    "    candidate_votes.append(temp)\n",
    "\n",
    "\n",
    "# the percentage of votes each candidate won\n",
    "candidate_percentages = []\n",
    "for i in range(len(candidates)):\n",
    "    candidate_percentages.append(round(100*candidate_votes[i]/total_votes,3))\n",
    "\n",
    "\n",
    "# output\n",
    "for i in range(len(candidates)):\n",
    "    print(f\"{candidates[i]}: {candidate_percentages[i]}% ({candidate_votes[i]})\")\n",
    "    print()\n",
    "\n",
    "\n",
    "print(\"-\"*28)\n",
    "print()\n",
    "\n",
    "# the winner of election\n",
    "winner = ''\n",
    "winner_votes = 0\n",
    "\n",
    "for i in range(len(candidates)):\n",
    "    if winner_votes < candidate_votes[i]:\n",
    "        winner = candidates[i]\n",
    "        winner_votes = candidate_votes[i]\n",
    "\n",
    "print(\"Winner:\", winner)"
   ]
  },
  {
   "cell_type": "code",
   "execution_count": 10,
   "id": "81cac28b",
   "metadata": {},
   "outputs": [],
   "source": [
    "# Export results to text file\n",
    "\n",
    "f = open(\"Pypoll_results.txt\", \"w\")\n",
    "\n",
    "f.write('\\n')\n",
    "f.write(\"Election Results\\n\")\n",
    "f.write('\\n')\n",
    "f.write(\"-\"*28+'\\n')\n",
    "f.write('\\n')\n",
    "f.write(\"Total votes: {total_votes}\\n\")\n",
    "f.write('\\n')\n",
    "f.write(\"-\"*28+'\\n')\n",
    "f.write('\\n')\n",
    "\n",
    "for i in range(len(candidates)):\n",
    "    f.write(f\"{candidates[i]}: {candidate_percentages[i]}% ({candidate_votes[i]})\\n\")\n",
    "    f.write('\\n')\n",
    "\n",
    "f.write(\"-\"*28)\n",
    "f.write('\\n')\n",
    "f.write(f\"Winner: {winner}\\n\")\n",
    "\n",
    "f.close()"
   ]
  },
  {
   "cell_type": "code",
   "execution_count": null,
   "id": "146a9c4d",
   "metadata": {},
   "outputs": [],
   "source": []
  }
 ],
 "metadata": {
  "kernelspec": {
   "display_name": "Python 3",
   "language": "python",
   "name": "python3"
  },
  "language_info": {
   "codemirror_mode": {
    "name": "ipython",
    "version": 3
   },
   "file_extension": ".py",
   "mimetype": "text/x-python",
   "name": "python",
   "nbconvert_exporter": "python",
   "pygments_lexer": "ipython3",
   "version": "3.7.13"
  }
 },
 "nbformat": 4,
 "nbformat_minor": 5
}
